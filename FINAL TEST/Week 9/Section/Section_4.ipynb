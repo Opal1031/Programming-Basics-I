{
 "cells": [
  {
   "cell_type": "code",
   "execution_count": 3,
   "metadata": {},
   "outputs": [
    {
     "name": "stdout",
     "output_type": "stream",
     "text": [
      "BMI :  21.874999999999996\n",
      "BMI :  21.29529475392104\n",
      "BMI :  29.93827160493827\n"
     ]
    }
   ],
   "source": [
    "w = 56\n",
    "h = 1.6\n",
    "\n",
    "BMI = w / h ** 2\n",
    "\n",
    "print(\"BMI : \", BMI)\n",
    "\n",
    "w = 63\n",
    "h = 1.72\n",
    "\n",
    "BMI = w / h ** 2\n",
    "\n",
    "print(\"BMI : \", BMI)\n",
    "\n",
    "w = 97\n",
    "h = 1.8\n",
    "\n",
    "BMI = w / h ** 2\n",
    "\n",
    "print(\"BMI : \", BMI)"
   ]
  },
  {
   "cell_type": "code",
   "execution_count": 5,
   "metadata": {},
   "outputs": [
    {
     "name": "stdout",
     "output_type": "stream",
     "text": [
      "BMI :  21.874999999999996\n",
      "BMI :  21.29529475392104\n",
      "BMI :  29.93827160493827\n"
     ]
    }
   ],
   "source": [
    "def getBMI(w, h):\n",
    "    BMI = w / h ** 2\n",
    "    return BMI\n",
    "\n",
    "BMI1 = getBMI(56, 1.6)\n",
    "BMI2 = getBMI(63, 1.72)\n",
    "BMI3 = getBMI(97, 1.8)\n",
    "\n",
    "print(\"BMI : \", BMI1)\n",
    "print(\"BMI : \", BMI2)\n",
    "print(\"BMI : \", BMI3)"
   ]
  },
  {
   "cell_type": "code",
   "execution_count": 4,
   "metadata": {},
   "outputs": [
    {
     "name": "stdout",
     "output_type": "stream",
     "text": [
      "BMI :  21.874999999999996\n",
      "BMI :  21.29529475392104\n",
      "BMI :  29.93827160493827\n"
     ]
    }
   ],
   "source": [
    "def getBMI(w, h):\n",
    "    return w / h ** 2\n",
    "\n",
    "print(\"BMI : \", getBMI(56, 1.6))\n",
    "print(\"BMI : \", getBMI(63, 1.72))\n",
    "print(\"BMI : \", getBMI(97, 1.8))"
   ]
  }
 ],
 "metadata": {
  "interpreter": {
   "hash": "2e3d078c8d4bdc990425b59b37ce40889d98f8d9f97a9f0d06b73af4b91b75a1"
  },
  "kernelspec": {
   "display_name": "Python 3.10.2 64-bit",
   "language": "python",
   "name": "python3"
  },
  "language_info": {
   "codemirror_mode": {
    "name": "ipython",
    "version": 3
   },
   "file_extension": ".py",
   "mimetype": "text/x-python",
   "name": "python",
   "nbconvert_exporter": "python",
   "pygments_lexer": "ipython3",
   "version": "3.10.2"
  },
  "orig_nbformat": 4
 },
 "nbformat": 4,
 "nbformat_minor": 2
}
