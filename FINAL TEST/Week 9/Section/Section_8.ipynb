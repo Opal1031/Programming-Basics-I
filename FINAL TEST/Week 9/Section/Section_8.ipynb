{
 "cells": [
  {
   "cell_type": "code",
   "execution_count": 2,
   "metadata": {},
   "outputs": [
    {
     "data": {
      "text/plain": [
       "28.26"
      ]
     },
     "execution_count": 2,
     "metadata": {},
     "output_type": "execute_result"
    }
   ],
   "source": [
    "def CircleArea(r):\n",
    "    return PI * r ** 2\n",
    "\n",
    "PI = 3.14\n",
    "CircleArea(3)"
   ]
  },
  {
   "cell_type": "code",
   "execution_count": 3,
   "metadata": {},
   "outputs": [
    {
     "data": {
      "text/plain": [
       "28.273500000000002"
      ]
     },
     "execution_count": 3,
     "metadata": {},
     "output_type": "execute_result"
    }
   ],
   "source": [
    "def CircleArea(r):\n",
    "    PI = 3.1415\n",
    "    return PI * r ** 2\n",
    "\n",
    "PI = 3.14\n",
    "CircleArea(3)"
   ]
  },
  {
   "cell_type": "code",
   "execution_count": 5,
   "metadata": {},
   "outputs": [
    {
     "data": {
      "text/plain": [
       "3.14"
      ]
     },
     "execution_count": 5,
     "metadata": {},
     "output_type": "execute_result"
    }
   ],
   "source": [
    "PI"
   ]
  },
  {
   "cell_type": "code",
   "execution_count": 7,
   "metadata": {},
   "outputs": [
    {
     "ename": "UnboundLocalError",
     "evalue": "local variable 'PI' referenced before assignment",
     "output_type": "error",
     "traceback": [
      "\u001b[1;31m---------------------------------------------------------------------------\u001b[0m",
      "\u001b[1;31mUnboundLocalError\u001b[0m                         Traceback (most recent call last)",
      "\u001b[1;32md:\\GitHub\\Programming-Basics\\FINAL EXAM\\Week 9\\Section\\Section_8.ipynb Cell 4'\u001b[0m in \u001b[0;36m<cell line: 7>\u001b[1;34m()\u001b[0m\n\u001b[0;32m      <a href='vscode-notebook-cell:/d%3A/GitHub/Programming-Basics/FINAL%20EXAM/Week%209/Section/Section_8.ipynb#ch0000004?line=3'>4</a>\u001b[0m     \u001b[39mreturn\u001b[39;00m area\n\u001b[0;32m      <a href='vscode-notebook-cell:/d%3A/GitHub/Programming-Basics/FINAL%20EXAM/Week%209/Section/Section_8.ipynb#ch0000004?line=5'>6</a>\u001b[0m PI \u001b[39m=\u001b[39m \u001b[39m3.14\u001b[39m\n\u001b[1;32m----> <a href='vscode-notebook-cell:/d%3A/GitHub/Programming-Basics/FINAL%20EXAM/Week%209/Section/Section_8.ipynb#ch0000004?line=6'>7</a>\u001b[0m CircleArea(\u001b[39m3\u001b[39;49m)\n",
      "\u001b[1;32md:\\GitHub\\Programming-Basics\\FINAL EXAM\\Week 9\\Section\\Section_8.ipynb Cell 4'\u001b[0m in \u001b[0;36mCircleArea\u001b[1;34m(r)\u001b[0m\n\u001b[0;32m      <a href='vscode-notebook-cell:/d%3A/GitHub/Programming-Basics/FINAL%20EXAM/Week%209/Section/Section_8.ipynb#ch0000004?line=0'>1</a>\u001b[0m \u001b[39mdef\u001b[39;00m \u001b[39mCircleArea\u001b[39m(r):\n\u001b[1;32m----> <a href='vscode-notebook-cell:/d%3A/GitHub/Programming-Basics/FINAL%20EXAM/Week%209/Section/Section_8.ipynb#ch0000004?line=1'>2</a>\u001b[0m     area \u001b[39m=\u001b[39m  PI \u001b[39m*\u001b[39m r \u001b[39m*\u001b[39m\u001b[39m*\u001b[39m \u001b[39m2\u001b[39m\n\u001b[0;32m      <a href='vscode-notebook-cell:/d%3A/GitHub/Programming-Basics/FINAL%20EXAM/Week%209/Section/Section_8.ipynb#ch0000004?line=2'>3</a>\u001b[0m     PI \u001b[39m=\u001b[39m \u001b[39m3.1415\u001b[39m\n\u001b[0;32m      <a href='vscode-notebook-cell:/d%3A/GitHub/Programming-Basics/FINAL%20EXAM/Week%209/Section/Section_8.ipynb#ch0000004?line=3'>4</a>\u001b[0m     \u001b[39mreturn\u001b[39;00m area\n",
      "\u001b[1;31mUnboundLocalError\u001b[0m: local variable 'PI' referenced before assignment"
     ]
    }
   ],
   "source": [
    "def CircleArea(r):\n",
    "    area =  PI * r ** 2\n",
    "    PI = 3.1415\n",
    "    return area\n",
    "\n",
    "PI = 3.14\n",
    "CircleArea(3)"
   ]
  },
  {
   "cell_type": "code",
   "execution_count": 11,
   "metadata": {},
   "outputs": [
    {
     "data": {
      "text/plain": [
       "28.273500000000002"
      ]
     },
     "execution_count": 11,
     "metadata": {},
     "output_type": "execute_result"
    }
   ],
   "source": [
    "def CircleArea(r):\n",
    "    global PI\n",
    "    PI = 3.1415\n",
    "    return PI * r ** 2\n",
    "\n",
    "PI = 3.14\n",
    "CircleArea(3)"
   ]
  },
  {
   "cell_type": "code",
   "execution_count": 12,
   "metadata": {},
   "outputs": [
    {
     "data": {
      "text/plain": [
       "3.1415"
      ]
     },
     "execution_count": 12,
     "metadata": {},
     "output_type": "execute_result"
    }
   ],
   "source": [
    "PI"
   ]
  }
 ],
 "metadata": {
  "interpreter": {
   "hash": "2e3d078c8d4bdc990425b59b37ce40889d98f8d9f97a9f0d06b73af4b91b75a1"
  },
  "kernelspec": {
   "display_name": "Python 3.10.2 64-bit",
   "language": "python",
   "name": "python3"
  },
  "language_info": {
   "codemirror_mode": {
    "name": "ipython",
    "version": 3
   },
   "file_extension": ".py",
   "mimetype": "text/x-python",
   "name": "python",
   "nbconvert_exporter": "python",
   "pygments_lexer": "ipython3",
   "version": "3.10.2"
  },
  "orig_nbformat": 4
 },
 "nbformat": 4,
 "nbformat_minor": 2
}
