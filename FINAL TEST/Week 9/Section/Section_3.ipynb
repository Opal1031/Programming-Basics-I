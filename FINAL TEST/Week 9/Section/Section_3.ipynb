{
 "cells": [
  {
   "cell_type": "code",
   "execution_count": 1,
   "metadata": {},
   "outputs": [
    {
     "name": "stdout",
     "output_type": "stream",
     "text": [
      "  *\n",
      " ***\n",
      "*****\n",
      "   *\n",
      "  ***\n",
      " *****\n",
      "*******\n",
      "    *\n",
      "   ***\n",
      "  *****\n",
      " *******\n",
      "*********\n"
     ]
    }
   ],
   "source": [
    "n = 3\n",
    "i = 1\n",
    "\n",
    "while i <= n:\n",
    "    print(\" \" * (n - i) + \"*\" * (i * 2 - 1))\n",
    "    i += 1\n",
    "\n",
    "n = 4\n",
    "i = 1\n",
    "\n",
    "while i <= n:\n",
    "    print(\" \" * (n - i) + \"*\" * (i * 2 - 1))\n",
    "    i += 1\n",
    "\n",
    "n = 5\n",
    "i = 1\n",
    "\n",
    "while i <= n:\n",
    "    print(\" \" * (n - i) + \"*\" * (i * 2 - 1))\n",
    "    i += 1"
   ]
  },
  {
   "cell_type": "code",
   "execution_count": 2,
   "metadata": {},
   "outputs": [
    {
     "name": "stdout",
     "output_type": "stream",
     "text": [
      "  *\n",
      " ***\n",
      "*****\n",
      "   *\n",
      "  ***\n",
      " *****\n",
      "*******\n",
      "    *\n",
      "   ***\n",
      "  *****\n",
      " *******\n",
      "*********\n"
     ]
    }
   ],
   "source": [
    "def drawTriangle(n):\n",
    "    i = 1\n",
    "\n",
    "    while i <= n:\n",
    "        print(\" \" * (n - i) + \"*\" * (i * 2 - 1))\n",
    "        i += 1\n",
    "\n",
    "drawTriangle(3)\n",
    "drawTriangle(4)\n",
    "drawTriangle(5)"
   ]
  }
 ],
 "metadata": {
  "interpreter": {
   "hash": "2e3d078c8d4bdc990425b59b37ce40889d98f8d9f97a9f0d06b73af4b91b75a1"
  },
  "kernelspec": {
   "display_name": "Python 3.10.2 64-bit",
   "language": "python",
   "name": "python3"
  },
  "language_info": {
   "codemirror_mode": {
    "name": "ipython",
    "version": 3
   },
   "file_extension": ".py",
   "mimetype": "text/x-python",
   "name": "python",
   "nbconvert_exporter": "python",
   "pygments_lexer": "ipython3",
   "version": "3.10.2"
  },
  "orig_nbformat": 4
 },
 "nbformat": 4,
 "nbformat_minor": 2
}
