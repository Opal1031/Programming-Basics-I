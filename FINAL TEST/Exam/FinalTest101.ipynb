{
 "cells": [
  {
   "cell_type": "markdown",
   "id": "2ea467fc",
   "metadata": {},
   "source": [
    "### 문제 1. 이름 글자수 판단하기(2점)\n",
    "- 입력받은 사람들의 이름들 중 이름이 3글자가 아닌 사람들을 골라내는 프로그램을 작성하세요.\n",
    "- 다음 코드에서 $라고 되어 있는 부분을 수정하세요.\n",
    "- 다음 코드의 예시 실행 결과를 참고하세요(한 번 이상 실행 시 사라짐)."
   ]
  },
  {
   "cell_type": "code",
   "execution_count": 21,
   "id": "202f4a2c",
   "metadata": {},
   "outputs": [
    {
     "name": "stdout",
     "output_type": "stream",
     "text": [
      "In: 뽀로로 유재석 둘리 베르베르 마이클\n",
      "3번째 사람의 이름은 2 글자입니다\n",
      "4번째 사람의 이름은 4 글자입니다\n"
     ]
    }
   ],
   "source": [
    "names = input(\"In: \").split()\n",
    "for $ in $:    \n",
    "    nameLen = $\n",
    "    if nameLen != 3: print(\"%d번째 사람의 이름은 %d 글자입니다\" % ($, nameLen))"
   ]
  },
  {
   "cell_type": "markdown",
   "id": "6df47cad",
   "metadata": {},
   "source": [
    "### 문제 2. 마름모 그리기(1점)\n",
    "- 다음 코드에서 while문을 for문으로 수정하세요."
   ]
  },
  {
   "cell_type": "code",
   "execution_count": 22,
   "id": "6b4d7664",
   "metadata": {},
   "outputs": [],
   "source": [
    "def drawRhombus(size):\n",
    "    circles = [\"○\", \"●\"]\n",
    "    x = -size\n",
    "    while x <= size:\n",
    "        y = -size\n",
    "        while y <= size:        \n",
    "            print(circles[abs(x) + abs(y) <= size], end = '')\n",
    "            y += 1\n",
    "        x += 1\n",
    "        print()"
   ]
  },
  {
   "cell_type": "code",
   "execution_count": 23,
   "id": "08e3a7b0",
   "metadata": {},
   "outputs": [
    {
     "name": "stdout",
     "output_type": "stream",
     "text": [
      "○○○○○●○○○○○\n",
      "○○○○●●●○○○○\n",
      "○○○●●●●●○○○\n",
      "○○●●●●●●●○○\n",
      "○●●●●●●●●●○\n",
      "●●●●●●●●●●●\n",
      "○●●●●●●●●●○\n",
      "○○●●●●●●●○○\n",
      "○○○●●●●●○○○\n",
      "○○○○●●●○○○○\n",
      "○○○○○●○○○○○\n"
     ]
    }
   ],
   "source": [
    "drawRhombus(5)"
   ]
  },
  {
   "cell_type": "markdown",
   "id": "88c06c89",
   "metadata": {},
   "source": [
    "### 문제 3. 숫자 맞추기(2점)\n",
    "- 4자리의 비밀숫자를 맞추는 프로그램을 작성하세요.\n",
    "- 입력된 숫자 nums를 secret과 비교하여 맞춘 숫자의 개수를 출력하도록 하세요.\n",
    "- 입력은 숫자4개만 입력된다고 가정하세요(예외 처리 필요 없음).\n",
    "- 다음 코드에서 $라고 되어 있는 부분을 수정하세요.\n",
    "- 다음 코드의 예시 실행 결과를 참고하세요(한 번 이상 실행 시 사라짐)."
   ]
  },
  {
   "cell_type": "code",
   "execution_count": 24,
   "id": "43690afa",
   "metadata": {},
   "outputs": [
    {
     "name": "stdout",
     "output_type": "stream",
     "text": [
      "숫자 4개를 입력하세요: 9381\n",
      "3개의 숫자를 맞추셨습니다.\n"
     ]
    }
   ],
   "source": [
    "secret = [1, 3, 4, 9]\n",
    "nums = input(\"숫자 4개를 입력하세요: \")\n",
    "count = 0\n",
    "for num in nums:\n",
    "    if $: count += 1\n",
    "print(\"%d개의 숫자를 맞추셨습니다.\" % count)"
   ]
  },
  {
   "cell_type": "code",
   "execution_count": null,
   "id": "cb4e1b87",
   "metadata": {},
   "outputs": [],
   "source": [
    "### 문제 4. 터틀 모듈로 별 그리기(2점)\n",
    "- 주어진 좌표(x, y)로 이동(이동하는 동안 선이 그어지지 않음) 후 주어진 크기(size)의 별을 그리는 함수를 정의하세요.\n",
    "- 별은 circle 함수를 이용하여 그리고 size는 circle 함수의 원의 반지름으로 사용하세요."
   ]
  },
  {
   "cell_type": "code",
   "execution_count": 1,
   "id": "4bab1581",
   "metadata": {},
   "outputs": [],
   "source": [
    "import turtle as t\n",
    "\n",
    "def GotoDrawStar(x, y, size):\n",
    "    "
   ]
  },
  {
   "cell_type": "code",
   "execution_count": 2,
   "id": "ef45f74b",
   "metadata": {},
   "outputs": [],
   "source": [
    "t.reset()\n",
    "t.dot('red')\n",
    "GotoDrawStar(50, 50, 100)"
   ]
  },
  {
   "attachments": {
    "image-2.png": {
     "image/png": "[encoded data removed]"
    }
   },
   "cell_type": "markdown",
   "id": "a16dd17f",
   "metadata": {},
   "source": [
    "![image-2.png](attachment:image-2.png)"
   ]
  },
  {
   "cell_type": "markdown",
   "id": "ceba1ecd",
   "metadata": {},
   "source": [
    "### 문제 5. 터틀 모듈로 오륜기 그리기 (2점)\n",
    "- 다음 코드에서 part2 부분을 for문을 이용하여 간단히 바꾸세요."
   ]
  },
  {
   "cell_type": "code",
   "execution_count": 1,
   "id": "3511f602",
   "metadata": {},
   "outputs": [],
   "source": [
    "#part1\n",
    "import turtle as t\n",
    "\n",
    "def drawCircle(x, y, color): # 주어진 위치로 가서 주어진 색의 원을 그리는 함수\n",
    "    t.up()\n",
    "    t.goto(x, y)\n",
    "    t.down()\n",
    "    t.color(color)\n",
    "    t.circle(50)\n",
    "\n",
    "t.reset()\n",
    "t.ht()\n",
    "t.pensize(5)\n",
    "t.speed(0)"
   ]
  },
  {
   "cell_type": "code",
   "execution_count": 2,
   "id": "20c0dd15",
   "metadata": {},
   "outputs": [],
   "source": [
    "#part2 (수정 대상)\n",
    "drawCircle(-80, 70, \"blue\")\n",
    "drawCircle(  0, 70, \"black\")\n",
    "drawCircle( 80, 70, \"red\")\n",
    "drawCircle(-40,  0, \"yellow\")\n",
    "drawCircle( 40,  0, \"green\")"
   ]
  },
  {
   "attachments": {
    "image.png": {
     "image/png": "[encoded data removed]"
    }
   },
   "cell_type": "markdown",
   "id": "de2d79e7",
   "metadata": {},
   "source": [
    "![image.png](attachment:image.png)"
   ]
  },
  {
   "cell_type": "markdown",
   "id": "ef7606fd",
   "metadata": {},
   "source": [
    "### 문제 6. matplotlib로 그래프 그리기\n",
    "- 2000년 ~ 2022년 출생건수와 사망건수가 다음 두 배열 birth, death에 저장되어 있다."
   ]
  },
  {
   "cell_type": "code",
   "execution_count": 3,
   "id": "0ec6408f",
   "metadata": {},
   "outputs": [],
   "source": [
    "import numpy as np\n",
    "import matplotlib.pyplot as plt\n",
    "from matplotlib import rc\n",
    "rc('font', family='Malgun Gothic')          # 한글 지원 font로 변경\n",
    "plt.rcParams['axes.unicode_minus'] = False  # -기호 깨지는 것 방지\n",
    "\n",
    "birthRaw = \"41222\t35848\t30767\t30117\t28231\t25681\t25881\t28426\t26670\t25110\t27415\t27759\t28673\t25831\t26190\t26645\t24906\t21480\t19152\t17049\t15058\".split()\n",
    "birth = np.array([int(x) for x in birthRaw])\n",
    "\n",
    "deathRaw = \"18318\t18422\t18688\t18528\t18722\t18854\t18983\t19170\t19385\t18954\t19708\t19643\t20534\t20096\t20230\t20820\t21074\t21434\t22570\t22260\t22950\".split()\n",
    "death = np.array([int(x) for x in deathRaw])"
   ]
  },
  {
   "cell_type": "markdown",
   "id": "00a29f53",
   "metadata": {},
   "source": [
    "#### 6-1. 2000, 2001, ..., 2020의 값을 갖는 배열 years를 정의하세요. (1점)"
   ]
  },
  {
   "cell_type": "code",
   "execution_count": 4,
   "id": "02a85313",
   "metadata": {},
   "outputs": [
    {
     "data": {
      "text/plain": [
       "array([2000, 2001, 2002, 2003, 2004, 2005, 2006, 2007, 2008, 2009, 2010,\n",
       "       2011, 2012, 2013, 2014, 2015, 2016, 2017, 2018, 2019, 2020])"
      ]
     },
     "execution_count": 4,
     "metadata": {},
     "output_type": "execute_result"
    }
   ],
   "source": [
    "years = \n",
    "years"
   ]
  },
  {
   "cell_type": "markdown",
   "id": "00f710c7",
   "metadata": {},
   "source": [
    "#### 6-2. 자연증가는 출생건수에서 사망건수를 뺀 수치를 의미합니다. 자연증가를 나타내는 배열 incPop을 정의하세요. (1점)"
   ]
  },
  {
   "cell_type": "code",
   "execution_count": 5,
   "id": "5de6b06e",
   "metadata": {},
   "outputs": [
    {
     "data": {
      "text/plain": [
       "array([22904, 17426, 12079, 11589,  9509,  6827,  6898,  9256,  7285,\n",
       "        6156,  7707,  8116,  8139,  5735,  5960,  5825,  3832,    46,\n",
       "       -3418, -5211, -7892])"
      ]
     },
     "execution_count": 5,
     "metadata": {},
     "output_type": "execute_result"
    }
   ],
   "source": [
    "incPop = \n",
    "incPop"
   ]
  },
  {
   "cell_type": "markdown",
   "id": "ca1f326e",
   "metadata": {},
   "source": [
    "#### 6-3. 다음의 주어진 코드의 실행 결과를 참고하여 두 번째 그래프처럼 나오기 위한 코드를 작성하세요. (3점)"
   ]
  },
  {
   "cell_type": "code",
   "execution_count": 6,
   "id": "caba1a06",
   "metadata": {},
   "outputs": [
    {
     "data": {
      "text/plain": [
       "[<matplotlib.lines.Line2D at 0x221fdd283a0>]"
      ]
     },
     "execution_count": 6,
     "metadata": {},
     "output_type": "execute_result"
    },
    {
     "data": {
      "image/png": "[encoded data removed]",
      "text/plain": [
       "<Figure size 432x288 with 1 Axes>"
      ]
     },
     "metadata": {
      "needs_background": "light"
     },
     "output_type": "display_data"
    }
   ],
   "source": [
    "#주어진 코드와 그래프\n",
    "plt.plot(years, birth)\n",
    "plt.plot(years, death)"
   ]
  },
  {
   "cell_type": "code",
   "execution_count": 7,
   "id": "38791295",
   "metadata": {},
   "outputs": [
    {
     "data": {
      "text/plain": [
       "<matplotlib.legend.Legend at 0x221fde0f970>"
      ]
     },
     "execution_count": 7,
     "metadata": {},
     "output_type": "execute_result"
    },
    {
     "data": {
      "image/png": "[encoded data removed]",
      "text/plain": [
       "<Figure size 864x360 with 1 Axes>"
      ]
     },
     "metadata": {
      "needs_background": "light"
     },
     "output_type": "display_data"
    }
   ],
   "source": [
    "# 작성해야 되는 코드\n",
    "plt.figure(figsize = (12, 5))\n",
    "plt.xticks(range(2000, 2022, 2))\n",
    "# 작성부분\n",
    "plt.legend()"
   ]
  },
  {
   "cell_type": "markdown",
   "id": "6b5420ad",
   "metadata": {},
   "source": [
    "### 문제 7. Tic-Tac-Toe\n",
    "- Tic-Tac-Toe 게임 방법\n",
    "  1. Player가 X, O 중 하나를 선택\n",
    "  2. Player와 computer 중 선이 랜덤하게 선택됨\n",
    "  3. 선부터 1~9 중 비어있는 곳을 선택하여 X와 O를 하나씩 격자(board)에 그려 가로/세로/대각선 한 줄을 먼저 완성하면 승리  \n",
    "- 이미 다음 함수들이 정의되어 있습니다."
   ]
  },
  {
   "cell_type": "code",
   "execution_count": 1,
   "id": "60004a1b",
   "metadata": {},
   "outputs": [],
   "source": [
    "import random\n",
    "def getPlayerLetter():\n",
    "    while True:\t\t\t\t\t# 반복\n",
    "        letter = input('Do you want be X or O? ').upper()\t# 문자 입력\n",
    "        if letter == 'X': return 'X', 'O'\t\t\t# 'X'일 때, ('X', 'O') 반환\n",
    "        elif letter == 'O': return 'O', 'X'\t\t\t# 'O'일 때, ('O', 'X') 반환\n",
    "        \n",
    "def getFirst():\n",
    "    isCom1st = random.randint(0, 1)\t\t\t# 선 결정(랜덤)\n",
    "    who = ['player', 'computer']\n",
    "    print('The', who[isCom1st], 'will go first.') \t# 선 결정 결과 출력\n",
    "    return isCom1st\t\t\t\t\t\t\t\t\t# 결정값 반환\n",
    "\n",
    "def drawBoard(board):\t\t\t\t\t\t\t\t# board: 크기 10의 리스트(0번 요소 무시)\n",
    "    print('+---+---+---+')\n",
    "    print('|', board[7], '|', board[8], '|', board[9], '|')\n",
    "    print('+---+---+---+')\n",
    "    print('|', board[4], '|', board[5], '|', board[6], '|')\n",
    "    print('+---+---+---+')\n",
    "    print('|', board[1], '|', board[2], '|', board[3], '|')\n",
    "    print('+---+---+---+')\n",
    "\n",
    "def isSpaceFree(board, move):\n",
    "    return board[move] == ' '\t\t\t\t\t# 공백 주의(''가 아닌 ' '임)\n",
    "\n",
    "def getComMove(board):\n",
    "    for move in [5, 7, 9, 1, 3, 8, 4, 2, 6]:\t# 중앙(5), 꼭지점(1, 3, 7, 9), 나머지(2, 4, 6, 8) 순으로\n",
    "        if isSpaceFree(board, move): \t\t\t# 해당 위치가 비어있는 경우\n",
    "            return move \t\t\t\t\t\t# 해당 값 반환\n",
    "\n",
    "def makeMove(board, letter, move): board[move] = letter\n",
    "    \n",
    "def isSameLetter(board, line):\n",
    "    return board[line[0]] == board[line[1]] and board[line[1]] == board[line[2]]"
   ]
  },
  {
   "cell_type": "markdown",
   "id": "93e95cbf",
   "metadata": {},
   "source": [
    "#### 7-1. move에 말을 둠으로써 동일 글자 한 줄이 완성되는지(승리가 발생하는지)를 판단하는 isWin 함수 정의를 완성하세요. (2점)\n",
    "- 다음코드에서 $ 부분을 채우세요."
   ]
  },
  {
   "cell_type": "code",
   "execution_count": 2,
   "id": "25edb5df",
   "metadata": {},
   "outputs": [],
   "source": [
    "lines = [(1, 2, 3), (4, 5, 6), (7, 8, 9), (1, 4, 7), (2, 5, 8), (3, 6, 9), (3, 5, 7), (1, 5, 9)]\n",
    "def isWin(board, move):\n",
    "    for line in lines:\n",
    "        if $: return True\n",
    "    return False"
   ]
  },
  {
   "cell_type": "markdown",
   "id": "fac65fd2",
   "metadata": {},
   "source": [
    "#### 7-2. 1\\~9의 빈 자리에 해당하는 숫자를 입력받는 함수를 완성하세요. (3점)\n",
    "- 입력된 내용이 1~9가 아니거나 빈 자리가 아닐경우 입력을 다시 받도록 하세요."
   ]
  },
  {
   "cell_type": "code",
   "execution_count": 3,
   "id": "9dd39791",
   "metadata": {},
   "outputs": [],
   "source": [
    "def getPlayerMove(board):\n",
    "    "
   ]
  },
  {
   "cell_type": "markdown",
   "id": "24f3136c",
   "metadata": {},
   "source": [
    "#### 7-3. 위 함수들을 이용하여 Tic-Tac-Toe 프로그램을 완성하세요. (5점)"
   ]
  },
  {
   "cell_type": "code",
   "execution_count": 9,
   "id": "0d0bf202",
   "metadata": {},
   "outputs": [
    {
     "name": "stdout",
     "output_type": "stream",
     "text": [
      "Do you want be X or O? x\n",
      "The computer will go first.\n"
     ]
    }
   ],
   "source": [
    "#문자 결정, 선 결정, 보드 초기화\n",
    "letters = getPlayerLetter()\t\t\t\t# 문자 선택(0: player, 1: computer)\n",
    "isComTurn = getFirst()\t\t\t\t\t# 선 결정\n",
    "board = [' '] * 10\t\t\t\t\t# 보드 초기화"
   ]
  },
  {
   "cell_type": "code",
   "execution_count": 10,
   "id": "c253a9f2",
   "metadata": {},
   "outputs": [
    {
     "name": "stdout",
     "output_type": "stream",
     "text": [
      "+---+---+---+\n",
      "|   |   |   |\n",
      "+---+---+---+\n",
      "|   | O |   |\n",
      "+---+---+---+\n",
      "|   |   |   |\n",
      "+---+---+---+\n",
      "What is your next move? (1-9) 5\n",
      "What is your next move? (1-9) 9\n",
      "+---+---+---+\n",
      "| O |   | X |\n",
      "+---+---+---+\n",
      "|   | O |   |\n",
      "+---+---+---+\n",
      "|   |   |   |\n",
      "+---+---+---+\n",
      "What is your next move? (1-9) 3\n",
      "+---+---+---+\n",
      "| O |   | X |\n",
      "+---+---+---+\n",
      "|   | O |   |\n",
      "+---+---+---+\n",
      "| O |   | X |\n",
      "+---+---+---+\n",
      "What is your next move? (1-9) 4\n",
      "+---+---+---+\n",
      "| O | O | X |\n",
      "+---+---+---+\n",
      "| X | O |   |\n",
      "+---+---+---+\n",
      "| O |   | X |\n",
      "+---+---+---+\n",
      "What is your next move? (1-9) 2\n",
      "The game is a tie!\n",
      "+---+---+---+\n",
      "| O | O | X |\n",
      "+---+---+---+\n",
      "| X | O | O |\n",
      "+---+---+---+\n",
      "| O | X | X |\n",
      "+---+---+---+\n"
     ]
    }
   ],
   "source": [
    "# 9번 동안 차례대로 한 번씩 두기\n"
   ]
  },
  {
   "cell_type": "code",
   "execution_count": null,
   "id": "569a2b2b",
   "metadata": {},
   "outputs": [],
   "source": []
  }
 ],
 "metadata": {
  "kernelspec": {
   "display_name": "Python 3 (ipykernel)",
   "language": "python",
   "name": "python3"
  },
  "language_info": {
   "codemirror_mode": {
    "name": "ipython",
    "version": 3
   },
   "file_extension": ".py",
   "mimetype": "text/x-python",
   "name": "python",
   "nbconvert_exporter": "python",
   "pygments_lexer": "ipython3",
   "version": "3.9.7"
  }
 },
 "nbformat": 4,
 "nbformat_minor": 5
}
