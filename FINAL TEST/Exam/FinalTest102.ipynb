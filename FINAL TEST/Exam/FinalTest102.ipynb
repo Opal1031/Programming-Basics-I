{
 "cells": [
  {
   "cell_type": "markdown",
   "id": "40883106",
   "metadata": {},
   "source": [
    "### 문제 1. 짝수의 개수, 합 구하기(2점)\n",
    "- 입력받은 숫자들 중 짝수의 개수와 합을 출력하는 프로그램을 작성하세요.\n",
    "- 다음 코드에서 \"#코드 추가\"라고 되어 있는 부분에 코드를 추가하여 프로그램을 완성하세요.\n",
    "- 다음 코드의 예시 실행 결과를 참고하세요(한 번 이상 실행 시 사라짐)."
   ]
  },
  {
   "cell_type": "code",
   "execution_count": 1,
   "id": "eb333844",
   "metadata": {},
   "outputs": [
    {
     "name": "stdout",
     "output_type": "stream",
     "text": [
      "In: 82 100 3 52 66 34 789\n",
      "짝수는 총 5개, 합은 334입니다.\n"
     ]
    }
   ],
   "source": [
    "# 결과 확인용(실행 X)\n",
    "nums = input(\"In: \").split()\n",
    "count = 0\n",
    "sum = 0\n",
    "#코드 추가\n",
    "print(\"짝수는 총 %d개, 합은 %d입니다.\" % (count, sum))"
   ]
  },
  {
   "cell_type": "code",
   "execution_count": 2,
   "id": "692c5863",
   "metadata": {},
   "outputs": [
    {
     "name": "stdout",
     "output_type": "stream",
     "text": [
      "In: 82 100 3 52 66 34 789\n",
      "짝수는 총 5개, 합은 334입니다.\n"
     ]
    }
   ],
   "source": [
    "#수정 대상 셀\n",
    "nums = input(\"In: \").split()\n",
    "count = 0\n",
    "sum = 0\n",
    "for i in range(0, len(nums)):\n",
    "    if int(nums[i])%2==0:\n",
    "        count+=1\n",
    "        sum+=int(nums[i])\n",
    "print(\"짝수는 총 %d개, 합은 %d입니다.\" % (count, sum))"
   ]
  },
  {
   "cell_type": "code",
   "execution_count": null,
   "id": "9520e69c",
   "metadata": {},
   "outputs": [],
   "source": []
  },
  {
   "cell_type": "markdown",
   "id": "a6da5830",
   "metadata": {},
   "source": [
    "### 문제 2. 합격자 찾기(2점)\n",
    "- 학생 이름과 점수를 입력 받은 후 60점 이상인 학생들의 이름을 출력하는 프로그램을 작성하세요.\n",
    "- 이름과 점수는 공백으로 구분되어 입력되고 동일한 개수가 입력된다고 가정하세요(예외 처리 필요 없음).\n",
    "- 다음 코드에서 $라고 되어 있는 부분을 수정하세요.\n",
    "- 다음 코드의 예시 실행 결과를 참고하세요(한 번 이상 실행 시 사라짐)."
   ]
  },
  {
   "cell_type": "code",
   "execution_count": 69,
   "id": "23c5a681",
   "metadata": {},
   "outputs": [
    {
     "name": "stdout",
     "output_type": "stream",
     "text": [
      "이름을 입력하세요: 영희 둘리 마이클 또치 뽀로로\n",
      "점수를 입력하세요: 62 45 99 35 3\n",
      "합격자: 영희 마이클 "
     ]
    }
   ],
   "source": [
    "# 결과 확인용(실행 X)\n",
    "names = input(\"이름을 입력하세요: \").split()\n",
    "scores = input(\"점수를 입력하세요: \").split()\n",
    "\n",
    "print(\"합격자:\", end = ' ')\n",
    "for $ in $:\n",
    "    if $: print($, end = ' ')"
   ]
  },
  {
   "cell_type": "code",
   "execution_count": 4,
   "id": "46e697a1",
   "metadata": {},
   "outputs": [
    {
     "name": "stdout",
     "output_type": "stream",
     "text": [
      "이름을 입력하세요: 영희 둘리 마이클 또치 뽀로로\n",
      "점수를 입력하세요: 62 45 99 35 3\n",
      "합격자: 영희 마이클 "
     ]
    }
   ],
   "source": [
    "#수정 대상 셀\n",
    "names = input(\"이름을 입력하세요: \").split()\n",
    "scores = input(\"점수를 입력하세요: \").split()\n",
    "\n",
    "print(\"합격자:\", end = ' ')\n",
    "for i in range(0, len(names)):\n",
    "    if int(scores[i])>=60: print(names[i], end = ' ')"
   ]
  },
  {
   "cell_type": "markdown",
   "id": "6df47cad",
   "metadata": {},
   "source": [
    "### 문제 3. 비밀 번호 맞추기(2점)\n",
    "- 번호를 입력받아 주어진 비밀번호(pw)를 맞춘 경우에만 종료하는 함수 checkPassword를 정의하세요.\n",
    "- 다음 코드에서 $부분을 수정하면 됩니다.\n",
    "- 입력한 숫자열의 마지막 부분과 비밀 번호가 같을 경우 비밀 번호를 맞춘 것으로 간주합니다.\n",
    "- 다음 코드의 예시 실행 결과를 참고하여 예외처리에 신경쓰세요(한 번 이상 실행 시 사라짐)."
   ]
  },
  {
   "cell_type": "code",
   "execution_count": 3,
   "id": "6b4d7664",
   "metadata": {},
   "outputs": [],
   "source": [
    "#수정 대상 셀\n",
    "def checkPassword(pw):\n",
    "    while True:\n",
    "        guess = input(\"비밀번호를 입력하세요: \")\n",
    "        if $: return\n",
    "        print(\"비밀번호가 틀렸습니다.\\n\")"
   ]
  },
  {
   "cell_type": "code",
   "execution_count": 23,
   "id": "dd92430c",
   "metadata": {},
   "outputs": [
    {
     "ename": "IndentationError",
     "evalue": "unexpected indent (1264638925.py, line 6)",
     "output_type": "error",
     "traceback": [
      "\u001b[1;36m  Input \u001b[1;32mIn [23]\u001b[1;36m\u001b[0m\n\u001b[1;33m    print(\"비밀번호가 틀렸습니다.\\n\")\u001b[0m\n\u001b[1;37m    ^\u001b[0m\n\u001b[1;31mIndentationError\u001b[0m\u001b[1;31m:\u001b[0m unexpected indent\n"
     ]
    }
   ],
   "source": [
    "#수정 대상 셀\n",
    "def checkPassword(pw):\n",
    "    while True:\n",
    "        guess = input(\"비밀번호를 입력하세요: \")\n",
    "        if len(guess)<len(pw): return\n",
    "            print(\"비밀번호가 틀렸습니다.\\n\")\n",
    "        elif guess[-1]==pw[-1] and guess[-2]==pw[-2] and guess[-3]==pw[-3] and guess[-4==pw[-4]]:\n",
    "            print('문이 열렸습니다.')\n",
    "            break\n",
    "        else: return\n",
    "            print(\"비밀번호가 틀렸습니다.\\n\")\n",
    "pw = \"3691\"\n",
    "checkPassword(pw)\n",
    "print(\"문이 열렸습니다.\")"
   ]
  },
  {
   "cell_type": "code",
   "execution_count": 4,
   "id": "1aa090e7",
   "metadata": {},
   "outputs": [
    {
     "name": "stdout",
     "output_type": "stream",
     "text": [
      "비밀번호를 입력하세요: 369\n",
      "비밀번호가 틀렸습니다.\n",
      "\n",
      "비밀번호를 입력하세요: 523690\n",
      "비밀번호가 틀렸습니다.\n",
      "\n",
      "비밀번호를 입력하세요: 313691\n",
      "문이 열렸습니다.\n"
     ]
    }
   ],
   "source": [
    "# 결과 확인용(실행 X)\n",
    "pw = \"3691\"\n",
    "checkPassword(pw)\n",
    "print(\"문이 열렸습니다.\")"
   ]
  },
  {
   "cell_type": "code",
   "execution_count": 21,
   "id": "29966a60",
   "metadata": {},
   "outputs": [
    {
     "name": "stdout",
     "output_type": "stream",
     "text": [
      "비밀번호를 입력하세요: 523690\n",
      "문이 열렸습니다.\n"
     ]
    }
   ],
   "source": [
    "# 수정 후 코드 확인을 위해 실행하는 셀\n",
    "pw = \"3691\"\n",
    "checkPassword(pw)\n",
    "print(\"문이 열렸습니다.\")"
   ]
  },
  {
   "cell_type": "markdown",
   "id": "eab11426",
   "metadata": {},
   "source": [
    "### 문제 4. 터틀 모듈로 다각형 그리기(2점)\n",
    "- 주어진 색(color), 다각형의 변의 개수(n), 크기(size) 대로 다각형을 그리는 함수를 정의하세요.\n",
    "- 다각형은 circle 함수를 이용하여 그리고 size는 circle 함수의 원의 반지름으로 사용하세요."
   ]
  },
  {
   "cell_type": "code",
   "execution_count": 16,
   "id": "4bab1581",
   "metadata": {},
   "outputs": [
    {
     "ename": "TypeError",
     "evalue": "end_fill() takes 0 positional arguments but 1 was given",
     "output_type": "error",
     "traceback": [
      "\u001b[1;31m---------------------------------------------------------------------------\u001b[0m",
      "\u001b[1;31mTypeError\u001b[0m                                 Traceback (most recent call last)",
      "Input \u001b[1;32mIn [16]\u001b[0m, in \u001b[0;36m<module>\u001b[1;34m\u001b[0m\n\u001b[0;32m      8\u001b[0m     t\u001b[38;5;241m.\u001b[39mend_fill(color)\n\u001b[0;32m      9\u001b[0m t\u001b[38;5;241m.\u001b[39mreset()\n\u001b[1;32m---> 10\u001b[0m \u001b[43mDrawPolygon\u001b[49m\u001b[43m(\u001b[49m\u001b[38;5;124;43m'\u001b[39;49m\u001b[38;5;124;43mred\u001b[39;49m\u001b[38;5;124;43m'\u001b[39;49m\u001b[43m,\u001b[49m\u001b[43m \u001b[49m\u001b[38;5;241;43m3\u001b[39;49m\u001b[43m,\u001b[49m\u001b[43m \u001b[49m\u001b[38;5;241;43m100\u001b[39;49m\u001b[43m)\u001b[49m\n",
      "Input \u001b[1;32mIn [16]\u001b[0m, in \u001b[0;36mDrawPolygon\u001b[1;34m(color, n, size)\u001b[0m\n\u001b[0;32m      6\u001b[0m t\u001b[38;5;241m.\u001b[39mbegin_fill()\n\u001b[0;32m      7\u001b[0m t\u001b[38;5;241m.\u001b[39mcircle(size, steps\u001b[38;5;241m=\u001b[39mn)\n\u001b[1;32m----> 8\u001b[0m \u001b[43mt\u001b[49m\u001b[38;5;241;43m.\u001b[39;49m\u001b[43mend_fill\u001b[49m\u001b[43m(\u001b[49m\u001b[43mcolor\u001b[49m\u001b[43m)\u001b[49m\n",
      "\u001b[1;31mTypeError\u001b[0m: end_fill() takes 0 positional arguments but 1 was given"
     ]
    }
   ],
   "source": [
    "#수정 대상 셀\n",
    "import turtle as t\n",
    "\n",
    "def DrawPolygon(color, n, size):\n",
    "    t.fillcolor(color)\n",
    "    t.pencolor(color)\n",
    "    t.begin_fill()\n",
    "    t.circle(size, steps=n)\n",
    "    t.end_fill()\n",
    "t.reset()\n",
    "DrawPolygon('red', 5, 100)"
   ]
  },
  {
   "cell_type": "code",
   "execution_count": 8,
   "id": "409bac59",
   "metadata": {
    "scrolled": false
   },
   "outputs": [
    {
     "ename": "NameError",
     "evalue": "name 't' is not defined",
     "output_type": "error",
     "traceback": [
      "\u001b[1;31m---------------------------------------------------------------------------\u001b[0m",
      "\u001b[1;31mNameError\u001b[0m                                 Traceback (most recent call last)",
      "Input \u001b[1;32mIn [8]\u001b[0m, in \u001b[0;36m<module>\u001b[1;34m\u001b[0m\n\u001b[0;32m      1\u001b[0m \u001b[38;5;66;03m# 수정 후 코드 확인을 위해 실행하는 셀\u001b[39;00m\n\u001b[1;32m----> 2\u001b[0m \u001b[43mt\u001b[49m\u001b[38;5;241m.\u001b[39mreset()\n\u001b[0;32m      3\u001b[0m DrawPolygon(\u001b[38;5;124m'\u001b[39m\u001b[38;5;124mred\u001b[39m\u001b[38;5;124m'\u001b[39m, \u001b[38;5;241m3\u001b[39m, \u001b[38;5;241m100\u001b[39m)\n",
      "\u001b[1;31mNameError\u001b[0m: name 't' is not defined"
     ]
    }
   ],
   "source": [
    "# 수정 후 코드 확인을 위해 실행하는 셀\n",
    "t.reset()\n",
    "DrawPolygon('red', 3, 100)"
   ]
  },
  {
   "attachments": {
    "image.png": {
     "image/png": "[encoded data removed]"
    }
   },
   "cell_type": "markdown",
   "id": "06b40d7a",
   "metadata": {},
   "source": [
    "![image.png](attachment:image.png)"
   ]
  },
  {
   "cell_type": "markdown",
   "id": "ceba1ecd",
   "metadata": {},
   "source": [
    "### 문제 5. 터틀 모듈로 무지개 그리기 (2점)\n",
    "- 다음 코드에서 part2 부분을 for문을 이용하여 간단히 바꾸세요."
   ]
  },
  {
   "cell_type": "code",
   "execution_count": 6,
   "id": "be37ca15",
   "metadata": {},
   "outputs": [],
   "source": [
    "# part1\n",
    "import turtle as t0\n",
    "\n",
    "t0.up()\n",
    "t0.setx(-100)\n",
    "t0.pensize(8)\n",
    "t0.ht()\n",
    "t0.speed(0)\n"
   ]
  },
  {
   "cell_type": "code",
   "execution_count": null,
   "id": "0c7a11cb",
   "metadata": {},
   "outputs": [],
   "source": [
    "list=['red', 'orange', 'yellow', 'green', 'blue', 'indigo', 'purple']\n",
    "fd=range(0, 61, 10)\n",
    "size=range(100, 41, -10)\n",
    "for i in range(0, len(list)):\n",
    "    t1 = t0.clone()\n",
    "    t1.color(list[i])\n",
    "    t1.fd(int(fd[i]))\n",
    "    t1.down()\n",
    "    t1.rt(90)\n",
    "    t1.circle(int(size[i]), -180)"
   ]
  },
  {
   "cell_type": "code",
   "execution_count": 8,
   "id": "9f8c7b57",
   "metadata": {},
   "outputs": [
    {
     "data": {
      "text/plain": [
       "60"
      ]
     },
     "execution_count": 8,
     "metadata": {},
     "output_type": "execute_result"
    }
   ],
   "source": [
    "fd = range(0, 61, 10)\n",
    "fd[6]"
   ]
  },
  {
   "cell_type": "code",
   "execution_count": 7,
   "id": "3511f602",
   "metadata": {},
   "outputs": [],
   "source": [
    "# part2 - 수정 대상 셀\n",
    "list=['red', 'orange', 'yellow', 'green', 'blue', 'indigo', 'purple']\n",
    "fd=range(0, 61, 10)\n",
    "size=range(100, 41, -10)\n",
    "for i in range(0, len(list)):\n",
    "    t1 = t0.clone()\n",
    "    t1.color(list[i])\n",
    "    t1.fd(int(fd[i]))\n",
    "    t1.down()\n",
    "    t1.rt(90)\n",
    "    t1.circle(int(size[i]), -180)"
   ]
  },
  {
   "attachments": {
    "image.png": {
     "image/png": "[encoded data removed]"
    }
   },
   "cell_type": "markdown",
   "id": "c27e42d4",
   "metadata": {},
   "source": [
    "![image.png](attachment:image.png)"
   ]
  },
  {
   "cell_type": "markdown",
   "id": "ef7606fd",
   "metadata": {},
   "source": [
    "### 문제 6. matplotlib로 그래프 그리기\n",
    "- 2000년 ~ 2022년 출생건수, 조출생률, 조사망률이 다음 세 배열 birth, birthRate, deathRate에 저장되어 있다."
   ]
  },
  {
   "cell_type": "code",
   "execution_count": 1,
   "id": "0ec6408f",
   "metadata": {},
   "outputs": [],
   "source": [
    "import numpy as np\n",
    "import matplotlib.pyplot as plt\n",
    "from matplotlib import rc\n",
    "rc('font', family='Malgun Gothic')          # 한글 지원 font로 변경\n",
    "plt.rcParams['axes.unicode_minus'] = False  # -기호 깨지는 것 방지\n",
    "\n",
    "birthRaw = \"41222\t35848\t30767\t30117\t28231\t25681\t25881\t28426\t26670\t25110\t27415\t27759\t28673\t25831\t26190\t26645\t24906\t21480\t19152\t17049\t15058\".split()\n",
    "birth = np.array([int(x) for x in birthRaw])\n",
    "\n",
    "birthRateRaw = \"10.8\t9.5\t8.2\t8.1\t7.7\t7\t7.1\t7.9\t7.5\t7.1\t7.8\t7.9\t8.2\t7.4\t7.5\t7.7\t7.2\t6.2\t5.6\t5\t4.5\".split()\n",
    "birthRate = np.array([float(x) for x in birthRateRaw])\n",
    "\n",
    "deathRateRaw = \"4.8\t4.9\t5\t5\t5.1\t5.2\t5.2\t5.3\t5.4\t5.3\t5.6\t5.6\t5.9\t5.8\t5.8\t6\t6.1\t6.2\t6.6\t6.6\t6.8\".split()\n",
    "deathRate = np.array([float(x) for x in deathRateRaw])\n",
    "\n",
    "years = np.arange(2000, 2021)"
   ]
  },
  {
   "cell_type": "markdown",
   "id": "00a29f53",
   "metadata": {},
   "source": [
    "#### 6-1. 조출생률은 1000명당 출생자수를 의미합니다. 이로부터 부산시 인구 pop를 역산하세요. (1점) "
   ]
  },
  {
   "cell_type": "code",
   "execution_count": null,
   "id": "d9e62782",
   "metadata": {},
   "outputs": [],
   "source": [
    "#수정 대상 셀\n",
    "pop = \n",
    "pop"
   ]
  },
  {
   "cell_type": "code",
   "execution_count": 2,
   "id": "25263278",
   "metadata": {
    "scrolled": true
   },
   "outputs": [
    {
     "data": {
      "text/plain": [
       "array([3816851.85185185, 3773473.68421053, 3752073.17073171,\n",
       "       3718148.14814815, 3666363.63636364, 3668714.28571429,\n",
       "       3645211.26760563, 3598227.84810127, 3556000.        ,\n",
       "       3536619.71830986, 3514743.58974359, 3513797.46835443,\n",
       "       3496707.31707317, 3490675.67567568, 3492000.        ,\n",
       "       3460389.61038961, 3459166.66666667, 3464516.12903226,\n",
       "       3420000.        , 3409800.        , 3346222.22222222])"
      ]
     },
     "execution_count": 2,
     "metadata": {},
     "output_type": "execute_result"
    }
   ],
   "source": [
    "# 결과 확인용(실행 X)\n",
    "pop"
   ]
  },
  {
   "cell_type": "markdown",
   "id": "00f710c7",
   "metadata": {},
   "source": [
    "#### 6-2. 자연증가률은 1000명당 증가하는 인구수로 조출생률에서 조사망율을 뺀 수와 동일합니다. 자연증가률 incRate을 구하세요. (1점)"
   ]
  },
  {
   "cell_type": "code",
   "execution_count": null,
   "id": "991c7bdb",
   "metadata": {},
   "outputs": [],
   "source": [
    "#수정 대상 셀\n",
    "incRate = \n",
    "incRate"
   ]
  },
  {
   "cell_type": "code",
   "execution_count": 3,
   "id": "c21a7451",
   "metadata": {},
   "outputs": [
    {
     "data": {
      "text/plain": [
       "array([ 6. ,  4.6,  3.2,  3.1,  2.6,  1.8,  1.9,  2.6,  2.1,  1.8,  2.2,\n",
       "        2.3,  2.3,  1.6,  1.7,  1.7,  1.1,  0. , -1. , -1.6, -2.3])"
      ]
     },
     "execution_count": 3,
     "metadata": {},
     "output_type": "execute_result"
    }
   ],
   "source": [
    "# 결과 확인용(실행 X)\n",
    "incRate"
   ]
  },
  {
   "cell_type": "markdown",
   "id": "ca1f326e",
   "metadata": {},
   "source": [
    "#### 6-3. 다음의 주어진 코드의 실행 결과를 참고하여 두 번째 그래프처럼 나오기 위한 코드를 작성하세요. (3점)"
   ]
  },
  {
   "cell_type": "code",
   "execution_count": 4,
   "id": "e1023abf",
   "metadata": {},
   "outputs": [
    {
     "data": {
      "text/plain": [
       "[<matplotlib.lines.Line2D at 0x2023179cd60>]"
      ]
     },
     "execution_count": 4,
     "metadata": {},
     "output_type": "execute_result"
    },
    {
     "data": {
      "image/png": "[encoded data removed]",
      "text/plain": [
       "<Figure size 432x288 with 1 Axes>"
      ]
     },
     "metadata": {
      "needs_background": "light"
     },
     "output_type": "display_data"
    }
   ],
   "source": [
    "#주어진 코드와 그래프\n",
    "plt.plot(years, birthRate)\n",
    "plt.plot(years, deathRate)"
   ]
  },
  {
   "cell_type": "code",
   "execution_count": 5,
   "id": "19386133",
   "metadata": {},
   "outputs": [
    {
     "data": {
      "text/plain": [
       "<matplotlib.legend.Legend at 0x202013559c0>"
      ]
     },
     "execution_count": 5,
     "metadata": {},
     "output_type": "execute_result"
    },
    {
     "data": {
      "image/png": "[encoded data removed]",
      "text/plain": [
       "<Figure size 864x360 with 1 Axes>"
      ]
     },
     "metadata": {
      "needs_background": "light"
     },
     "output_type": "display_data"
    }
   ],
   "source": [
    "# 결과 확인용(실행 X)\n",
    "plt.figure(figsize = (12, 5))\n",
    "plt.xticks(range(2000, 2022, 2))\n",
    "# 코드 작성"
   ]
  },
  {
   "cell_type": "code",
   "execution_count": null,
   "id": "8d01c064",
   "metadata": {},
   "outputs": [],
   "source": [
    "# 수정 대상 셀\n",
    "plt.figure(figsize = (12, 5))\n",
    "plt.xticks(range(2000, 2022, 2))\n",
    "# 코드 작성"
   ]
  },
  {
   "cell_type": "markdown",
   "id": "6b5420ad",
   "metadata": {},
   "source": [
    "### 문제 7. Tic-Tac-Toe\n",
    "- Tic-Tac-Toe 게임 방법\n",
    "  1. Player가 X, O 중 하나를 선택\n",
    "  2. Player와 computer 중 선이 랜덤하게 선택됨\n",
    "  3. 선부터 1~9 중 비어있는 곳을 선택하여 X와 O를 하나씩 격자(board)에 그려 가로/세로/대각선 한 줄을 먼저 완성하면 승리  \n",
    "- 이미 다음 함수들이 정의되어 있습니다."
   ]
  },
  {
   "cell_type": "code",
   "execution_count": 2,
   "id": "60004a1b",
   "metadata": {},
   "outputs": [],
   "source": [
    "import random\n",
    "def getPlayerLetter():\n",
    "    while True:\t\t\t\t\t# 반복\n",
    "        letter = input('Do you want be X or O? ').upper()\t# 문자 입력\n",
    "        if letter == 'X': return 'X', 'O'\t\t\t# 'X'일 때, ('X', 'O') 반환\n",
    "        elif letter == 'O': return 'O', 'X'\t\t\t# 'O'일 때, ('O', 'X') 반환\n",
    "        \n",
    "def getFirst():\n",
    "    isCom1st = random.randint(0, 1)\t\t\t# 선 결정(랜덤)\n",
    "    who = ['player', 'computer']\n",
    "    print('The', who[isCom1st], 'will go first.') \t# 선 결정 결과 출력\n",
    "    return isCom1st\t\t\t\t\t\t\t\t\t# 결정값 반환\n",
    "\n",
    "def drawBoard(board):\t\t\t\t\t\t\t\t# board: 크기 10의 리스트(0번 요소 무시)\n",
    "    print('+---+---+---+')\n",
    "    print('|', board[7], '|', board[8], '|', board[9], '|')\n",
    "    print('+---+---+---+')\n",
    "    print('|', board[4], '|', board[5], '|', board[6], '|')\n",
    "    print('+---+---+---+')\n",
    "    print('|', board[1], '|', board[2], '|', board[3], '|')\n",
    "    print('+---+---+---+')\n",
    "\n",
    "def isSpaceFree(board, move):\n",
    "    return board[move] == ' '\t\t\t\t\t# 공백 주의(''가 아닌 ' '임)\n",
    "\n",
    "def getPlayerMove(board):\n",
    "    while True:\t\t\t\t\t\t    # 반복\n",
    "        move = input('What is your next move? (1-9) ')\t\t# 입력\n",
    "        if move.isdigit():\t\t\t\t\t\t# 숫자인지 확인\n",
    "            move = int(move)\t\t\t\t\t    # 숫자로 변환\n",
    "            if move > 0 and move < 10 and isSpaceFree(board, move): \t    # 1~9이고 빈 자리일 때\n",
    "                return move\t\t\t\t\t        # move 반환\n",
    "\n",
    "def getComMove(board):\n",
    "    for move in [5, 7, 9, 1, 3, 8, 4, 2, 6]:\t# 중앙(5), 꼭지점(1, 3, 7, 9), 나머지(2, 4, 6, 8) 순으로\n",
    "        if isSpaceFree(board, move): \t\t\t# 해당 위치가 비어있는 경우\n",
    "            return move \t\t\t\t\t\t# 해당 값 반환\n",
    "\n",
    "def makeMove(board, letter, move): board[move] = letter\n",
    "def undoMove(board, move): board[move] = ' '\t\t\t\t# 공백 주의(''가 아닌 ' '임)\n",
    "\n",
    "    \n",
    "def isWin(board, move):\n",
    "    for line in [(1, 2, 3), (4, 5, 6), (7, 8, 9), (1, 4, 7), (2, 5, 8), (3, 6, 9), (3, 5, 7), (1, 5, 9)]:\n",
    "        if move in line and isSameLetter(board, line) : return True\n",
    "    return False"
   ]
  },
  {
   "cell_type": "code",
   "execution_count": 11,
   "id": "752b8f6e",
   "metadata": {},
   "outputs": [
    {
     "name": "stdout",
     "output_type": "stream",
     "text": [
      "Do you want be X or O? x\n",
      "The computer will go first.\n"
     ]
    }
   ],
   "source": [
    "letters = getPlayerLetter()\t\t\t\t\t\t\t\t\t# 문자 선택(0: player, 1: computer)\n",
    "isCom1st = getFirst()\t\t\t\t\t\t\t\t\t\t# 선 결정\n",
    "board = [' '] * 10\t\t\t\t\t\t\t\t\t\t\t# 보드 초기화"
   ]
  },
  {
   "cell_type": "code",
   "execution_count": 12,
   "id": "76a4d380",
   "metadata": {},
   "outputs": [
    {
     "name": "stdout",
     "output_type": "stream",
     "text": [
      "+---+---+---+\n",
      "|   |   |   |\n",
      "+---+---+---+\n",
      "|   | O |   |\n",
      "+---+---+---+\n",
      "|   |   |   |\n",
      "+---+---+---+\n",
      "What is your next move? (1-9) 1\n",
      "+---+---+---+\n",
      "| O |   |   |\n",
      "+---+---+---+\n",
      "|   | O |   |\n",
      "+---+---+---+\n",
      "| X |   |   |\n",
      "+---+---+---+\n",
      "What is your next move? (1-9) 3\n",
      "+---+---+---+\n",
      "| O |   |   |\n",
      "+---+---+---+\n",
      "|   | O |   |\n",
      "+---+---+---+\n",
      "| X | O | X |\n",
      "+---+---+---+\n",
      "What is your next move? (1-9) 8\n",
      "+---+---+---+\n",
      "| O | X | O |\n",
      "+---+---+---+\n",
      "|   | O |   |\n",
      "+---+---+---+\n",
      "| X | O | X |\n",
      "+---+---+---+\n",
      "What is your next move? (1-9) 4\n",
      "The game is a tie!\n",
      "+---+---+---+\n",
      "| O | X | O |\n",
      "+---+---+---+\n",
      "| X | O | O |\n",
      "+---+---+---+\n",
      "| X | O | X |\n",
      "+---+---+---+\n"
     ]
    }
   ],
   "source": [
    "# 결과 확인용(실행 X)\n",
    "for isComTurn in ([isCom1st, 1-isCom1st] * 5)[:-1]:\t\t# 9번의 move 동안 반복\n",
    "    if isComTurn: move = getComMove(board)\t\t\t\t\t# Computer turn일 때 move 결정\n",
    "    else: drawBoard(board); move = getPlayerMove(board) \t# Player turn일 때 move 결정\n",
    "    makeMove(board, letters[isComTurn], move) \t\t\t\t# 보드에 말 추가    \n",
    "    if isWin(board, move):\t\t\t\t\t\t\t\t\t# 승리 판단\n",
    "        if isComTurn: print('You lose.')\t\t\t\t\t\t# computer 순서였을 때\n",
    "        else: print('You have won the game!')\t\t\t\t\t# player 순서였을 때\n",
    "        break\n",
    "    isComTurn = not isComTurn  \n",
    "else:  print('The game is a tie!')\t\t\t\t\t\t\t# 비김\n",
    "drawBoard(board) \t\t\t\t\t\t\t\t\t\t# 보드 출력"
   ]
  },
  {
   "cell_type": "markdown",
   "id": "93e95cbf",
   "metadata": {},
   "source": [
    "#### 7-1. 주어진 line이 동일한 글자인지 판단하는 isSameLetter 함수 정의를 완성하세요. (2점)\n",
    "- 다음 코드에서 $ 부분을 채우세요."
   ]
  },
  {
   "cell_type": "code",
   "execution_count": 4,
   "id": "25edb5df",
   "metadata": {},
   "outputs": [],
   "source": [
    "#수정 대상 셀\n",
    "def isSameLetter(board, line):\n",
    "    return $"
   ]
  },
  {
   "cell_type": "markdown",
   "id": "fac65fd2",
   "metadata": {},
   "source": [
    " #### 7-2. 주어진 글자가 이길 수 있는 위치를 반환하는 함수 getWinMove를 정의하세요. (3점)\n",
    "- 비어있고 두었을 때 이길 수 있는 위치가 있으면 해당 위치(1~9 사이의 숫자)를 반환하고 없으면 0을 반환해야 합니다.\n",
    "- 다음에서 \"#코드 작성\"이라고 되어 있는 부분을 채우세요.\n",
    "- 참고로 이길 수 있는 위치 정보만 반환해야 하며 결과적으로 실제로 두는 것까지 하면 안 됩니다."
   ]
  },
  {
   "cell_type": "code",
   "execution_count": 5,
   "id": "9dd39791",
   "metadata": {},
   "outputs": [],
   "source": [
    "#수정 대상 셀\n",
    "def getWinMove(board, letter):\n",
    "    for move in range(1, 10):\t\t# move 1~9 위치 확인\n",
    "        #코드 작성\n",
    "    return 0\t\t\t\t# 모든 move(1~10)에 대해 승리 위치가 없는 경우"
   ]
  },
  {
   "cell_type": "markdown",
   "id": "24f3136c",
   "metadata": {},
   "source": [
    "#### 7-3. getWinMove 함수를 이용하여 컴퓨터가 더 똑똑하게 동작하도록 기존의 getComMove를 수정하세요. (3점)\n",
    "- 다음에서 \"#코드 작성\"이라고 되어 있는 부분을 채우세요.\n",
    "- 똑똑해지는 정도에 따라 점수를 차등해서 점수를 부여합니다."
   ]
  },
  {
   "cell_type": "code",
   "execution_count": 6,
   "id": "c253a9f2",
   "metadata": {},
   "outputs": [],
   "source": [
    "#수정 대상 셀\n",
    "def getComMove(board):\n",
    "    # 코드 작성\n",
    "\n",
    "    for i in [5, 7, 9, 1, 3, 8, 4, 2, 6]:\t\t# 중앙(5), 꼭지점(1, 3, 7, 9), 나머지 순\n",
    "        if isSpaceFree(board, i): return i \t\t\t# 해당 위치가 비어있는 경우 해당 값 반환"
   ]
  },
  {
   "cell_type": "code",
   "execution_count": null,
   "id": "fc78af4c",
   "metadata": {},
   "outputs": [],
   "source": [
    "# 수정 후 코드 확인을 위해 실행하는 셀\n",
    "for isComTurn in ([isCom1st, 1-isCom1st] * 5)[:-1]:\t\t# 9번의 move 동안 반복\n",
    "    if isComTurn: move = getComMove(board)\t\t\t\t\t# Computer turn일 때 move 결정\n",
    "    else: drawBoard(board); move = getPlayerMove(board) \t# Player turn일 때 move 결정\n",
    "    makeMove(board, letters[isComTurn], move) \t\t\t\t# 보드에 말 추가    \n",
    "    if isWin(board, move):\t\t\t\t\t\t\t\t\t# 승리 판단\n",
    "        if isComTurn: print('You lose.')\t\t\t\t\t\t# computer 순서였을 때\n",
    "        else: print('You have won the game!')\t\t\t\t\t# player 순서였을 때\n",
    "        break\n",
    "    isComTurn = not isComTurn  \n",
    "else:  print('The game is a tie!')\t\t\t\t\t\t\t# 비김\n",
    "drawBoard(board) \t\t\t\t\t\t\t\t\t\t# 보드 출력"
   ]
  },
  {
   "cell_type": "markdown",
   "id": "fccb3577",
   "metadata": {},
   "source": [
    "### 터틀 모듈 관련\n",
    "1. 그리기\n",
    " - 상대적 이동: forward/fd, backward/bk/back,right/rt, left/lt\n",
    " - 절대적 이동: setposition/setpos/goto, setx, sety, setheading/seth, home\n",
    " - 도형: circle, dot\n",
    " - 절대적 정보 얻기: position/pos, xcor, ycor, heading\n",
    " - 상대적 정보 얻기: distance, towards\n",
    " - 취소/지우기: undo, clear, reset\n",
    "2. 외관\n",
    " - Turtle 보이기/감추기: hideturtle/ht,showturtle/st, isvisible\n",
    " - Turtle 모양: shape, shapesize/turtlesize\n",
    " - 속도: speed\n",
    "3. 펜\n",
    " - 펜 상태: pendown/pd/down, penup/pu/up, pensize/width\n",
    " - 색: pencolore, fillcolor, color, bgcolor\n",
    " - 채우기: begin_fill, end_fill\n",
    "4. 기타\n",
    " - 거북이 추가: Turtle\n",
    " - 거북이 복사: clone"
   ]
  },
  {
   "cell_type": "markdown",
   "id": "871f09b1",
   "metadata": {},
   "source": [
    "### numpy 관련 함수\n",
    "- 생성: array, arange, random.random, random.uniform, random.randint\n",
    "- 벡터 연산: exp, log, log10, sin, cos, abs\n",
    "- 통계 연산: min, max, argmin, argmax, sum, mean, median, var, std"
   ]
  },
  {
   "cell_type": "markdown",
   "id": "2f120e9c",
   "metadata": {},
   "source": [
    "### matplotlib 관련 함수\n",
    "\n",
    "- 선형 그래프: plot\n",
    "  * 매개변수: label, color/c, linestyle/ls, linewidth/lw, marker, markerfacecolor/mfc, markeredgecolor/mec, markersize/ms, ...\n",
    "- 산포도 그래프: scatter\n",
    "  * 매개변수: label, c, s, marker, alpha, cmap, ...\n",
    "- 막대 그래프: bar, barh\n",
    "- 기타 설정: title, grid, legend, xlabel, ylabel"
   ]
  },
  {
   "cell_type": "code",
   "execution_count": null,
   "id": "11b7e4fc",
   "metadata": {},
   "outputs": [],
   "source": []
  }
 ],
 "metadata": {
  "kernelspec": {
   "display_name": "Python 3 (ipykernel)",
   "language": "python",
   "name": "python3"
  },
  "language_info": {
   "codemirror_mode": {
    "name": "ipython",
    "version": 3
   },
   "file_extension": ".py",
   "mimetype": "text/x-python",
   "name": "python",
   "nbconvert_exporter": "python",
   "pygments_lexer": "ipython3",
   "version": "3.10.2"
  }
 },
 "nbformat": 4,
 "nbformat_minor": 5
}
