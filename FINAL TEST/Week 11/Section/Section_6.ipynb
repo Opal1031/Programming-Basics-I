{
 "cells": [
  {
   "cell_type": "code",
   "execution_count": 1,
   "metadata": {},
   "outputs": [],
   "source": [
    "a = [1,2,\"a\",\"b\",\"3\",\"76\",[1,52,3],\"c\",5,\"ac\",\"[4,3,9]\"]"
   ]
  },
  {
   "cell_type": "code",
   "execution_count": 2,
   "metadata": {},
   "outputs": [
    {
     "data": {
      "text/plain": [
       "(['a', 'b', '3'],\n",
       " ['c', 5, 'ac'],\n",
       " ['[4,3,9]', 'ac', 5, 'c'],\n",
       " [[1, 52, 3], '76', '3'],\n",
       " [2, 'b', '76'],\n",
       " [1, 'a', 'ac', 'c'])"
      ]
     },
     "execution_count": 2,
     "metadata": {},
     "output_type": "execute_result"
    }
   ],
   "source": [
    "a[2:5], a[-4:-1], a[:-5:-1], a[-5:-8:-1], a[1:6:2], a[0:3:2] + a[-2:-5:-2]"
   ]
  }
 ],
 "metadata": {
  "interpreter": {
   "hash": "2e3d078c8d4bdc990425b59b37ce40889d98f8d9f97a9f0d06b73af4b91b75a1"
  },
  "kernelspec": {
   "display_name": "Python 3.10.2 64-bit",
   "language": "python",
   "name": "python3"
  },
  "language_info": {
   "codemirror_mode": {
    "name": "ipython",
    "version": 3
   },
   "file_extension": ".py",
   "mimetype": "text/x-python",
   "name": "python",
   "nbconvert_exporter": "python",
   "pygments_lexer": "ipython3",
   "version": "3.10.2"
  },
  "orig_nbformat": 4
 },
 "nbformat": 4,
 "nbformat_minor": 2
}
