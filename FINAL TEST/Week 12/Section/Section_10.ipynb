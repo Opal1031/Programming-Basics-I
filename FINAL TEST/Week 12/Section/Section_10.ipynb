{
 "cells": [
  {
   "cell_type": "code",
   "execution_count": 4,
   "metadata": {},
   "outputs": [
    {
     "name": "stdout",
     "output_type": "stream",
     "text": [
      "3 -> 소수\n",
      "5 -> 소수\n",
      "7 -> 소수\n",
      "11 -> 소수\n",
      "13 -> 소수\n",
      "17 -> 소수\n",
      "19 -> 소수\n",
      "23 -> 소수\n",
      "29 -> 소수\n",
      "31 -> 소수\n",
      "37 -> 소수\n",
      "41 -> 소수\n",
      "43 -> 소수\n",
      "47 -> 소수\n",
      "53 -> 소수\n",
      "59 -> 소수\n",
      "61 -> 소수\n",
      "67 -> 소수\n",
      "71 -> 소수\n",
      "73 -> 소수\n",
      "79 -> 소수\n",
      "83 -> 소수\n",
      "89 -> 소수\n",
      "97 -> 소수\n"
     ]
    }
   ],
   "source": [
    "for n in range(3, 100, 2):\n",
    "    for divisor in range(3, n, 2):\n",
    "        if n % divisor == 0:\n",
    "            break\n",
    "    else:\n",
    "        print(n, \"-> 소수\")"
   ]
  }
 ],
 "metadata": {
  "interpreter": {
   "hash": "2e3d078c8d4bdc990425b59b37ce40889d98f8d9f97a9f0d06b73af4b91b75a1"
  },
  "kernelspec": {
   "display_name": "Python 3.10.2 64-bit",
   "language": "python",
   "name": "python3"
  },
  "language_info": {
   "codemirror_mode": {
    "name": "ipython",
    "version": 3
   },
   "file_extension": ".py",
   "mimetype": "text/x-python",
   "name": "python",
   "nbconvert_exporter": "python",
   "pygments_lexer": "ipython3",
   "version": "3.10.2"
  },
  "orig_nbformat": 4
 },
 "nbformat": 4,
 "nbformat_minor": 2
}
