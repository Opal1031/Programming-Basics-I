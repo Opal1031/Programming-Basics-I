{
 "cells": [
  {
   "cell_type": "code",
   "execution_count": 2,
   "metadata": {},
   "outputs": [
    {
     "name": "stdout",
     "output_type": "stream",
     "text": [
      "    △\n",
      "   △△\n",
      "  △△△\n",
      " △△△△\n",
      "△△△△△\n",
      "    ■\n",
      "    ■\n"
     ]
    }
   ],
   "source": [
    "size = int(input(\"나무 크기 : \"))\n",
    "leaf = input(\"잎 모양 : \")\n",
    "stem = input(\"줄기 모양 : \")\n",
    "\n",
    "n = 1\n",
    "while n <= size:\n",
    "    print(\" \" * (size - n) + leaf * n)\n",
    "    n += 1\n",
    "\n",
    "n = 1\n",
    "while n <= size // 2:\n",
    "    print(\" \" * (size - 1) + stem)\n",
    "    n += 1"
   ]
  },
  {
   "cell_type": "code",
   "execution_count": 4,
   "metadata": {},
   "outputs": [
    {
     "name": "stdout",
     "output_type": "stream",
     "text": [
      "     \n",
      "    △\n",
      "   △△\n",
      "  △△△\n",
      " △△△△\n",
      "△△△△△\n",
      "    ■\n",
      "    ■\n"
     ]
    }
   ],
   "source": [
    "size = int(input(\"나무 크기 : \"))\n",
    "leaf = input(\"잎 모양 : \")\n",
    "stem = input(\"줄기 모양 : \")\n",
    "\n",
    "for p in range(0, size + 1):\n",
    "    print(\" \" * (size - p) + leaf * p)\n",
    "\n",
    "for q in range(0, size // 2):\n",
    "    print(\" \" * (size - 1) + stem)"
   ]
  }
 ],
 "metadata": {
  "interpreter": {
   "hash": "2e3d078c8d4bdc990425b59b37ce40889d98f8d9f97a9f0d06b73af4b91b75a1"
  },
  "kernelspec": {
   "display_name": "Python 3.10.2 64-bit",
   "language": "python",
   "name": "python3"
  },
  "language_info": {
   "codemirror_mode": {
    "name": "ipython",
    "version": 3
   },
   "file_extension": ".py",
   "mimetype": "text/x-python",
   "name": "python",
   "nbconvert_exporter": "python",
   "pygments_lexer": "ipython3",
   "version": "3.10.2"
  },
  "orig_nbformat": 4
 },
 "nbformat": 4,
 "nbformat_minor": 2
}
