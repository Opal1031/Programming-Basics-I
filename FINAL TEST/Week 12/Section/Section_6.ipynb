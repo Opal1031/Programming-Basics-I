{
 "cells": [
  {
   "cell_type": "code",
   "execution_count": 1,
   "metadata": {},
   "outputs": [
    {
     "name": "stdout",
     "output_type": "stream",
     "text": [
      "나무를 1 번 찍었습니다. 쾅\n",
      "나무를 2 번 찍었습니다. 쾅, 쾅\n",
      "나무를 3 번 찍었습니다. 쾅, 쾅, 쾅\n",
      "나무를 4 번 찍었습니다. 쾅, 쾅, 쾅, 쾅\n",
      "나무를 5 번 찍었습니다. 쾅, 쾅, 쾅, 쾅, 쾅\n",
      "나무를 6 번 찍었습니다. 쾅, 쾅, 쾅, 쾅, 쾅, 쾅\n",
      "나무를 7 번 찍었습니다. 쾅, 쾅, 쾅, 쾅, 쾅, 쾅, 쾅\n",
      "나무를 8 번 찍었습니다. 쾅, 쾅, 쾅, 쾅, 쾅, 쾅, 쾅, 쾅\n",
      "나무를 9 번 찍었습니다. 쾅, 쾅, 쾅, 쾅, 쾅, 쾅, 쾅, 쾅, 쾅\n",
      "나무가 넘어갔습니다.\n"
     ]
    }
   ],
   "source": [
    "n = 1\n",
    "while n < 10:\n",
    "    print(\"나무를\", n, \"번 찍었습니다.\", \"쾅, \" * (n - 1) + \"쾅\")\n",
    "    n += 1\n",
    "print(\"나무가 넘어갔습니다.\")"
   ]
  },
  {
   "cell_type": "code",
   "execution_count": 4,
   "metadata": {},
   "outputs": [
    {
     "name": "stdout",
     "output_type": "stream",
     "text": [
      "나무를 1 번 찍었습니다. 쾅\n",
      "나무를 2 번 찍었습니다. 쾅, 쾅\n",
      "나무를 3 번 찍었습니다. 쾅, 쾅, 쾅\n",
      "나무를 4 번 찍었습니다. 쾅, 쾅, 쾅, 쾅\n",
      "나무를 5 번 찍었습니다. 쾅, 쾅, 쾅, 쾅, 쾅\n",
      "나무를 6 번 찍었습니다. 쾅, 쾅, 쾅, 쾅, 쾅, 쾅\n",
      "나무를 7 번 찍었습니다. 쾅, 쾅, 쾅, 쾅, 쾅, 쾅, 쾅\n",
      "나무를 8 번 찍었습니다. 쾅, 쾅, 쾅, 쾅, 쾅, 쾅, 쾅, 쾅\n",
      "나무를 9 번 찍었습니다. 쾅, 쾅, 쾅, 쾅, 쾅, 쾅, 쾅, 쾅, 쾅\n",
      "나무가 넘어갔습니다\n"
     ]
    }
   ],
   "source": [
    "for n in range(1, 10, 1):\n",
    "    print(\"나무를\", n, \"번 찍었습니다.\", \"쾅, \" * (n - 1) + \"쾅\")\n",
    "print(\"나무가 넘어갔습니다\")"
   ]
  }
 ],
 "metadata": {
  "interpreter": {
   "hash": "2e3d078c8d4bdc990425b59b37ce40889d98f8d9f97a9f0d06b73af4b91b75a1"
  },
  "kernelspec": {
   "display_name": "Python 3.10.2 64-bit",
   "language": "python",
   "name": "python3"
  },
  "language_info": {
   "codemirror_mode": {
    "name": "ipython",
    "version": 3
   },
   "file_extension": ".py",
   "mimetype": "text/x-python",
   "name": "python",
   "nbconvert_exporter": "python",
   "pygments_lexer": "ipython3",
   "version": "3.10.2"
  },
  "orig_nbformat": 4
 },
 "nbformat": 4,
 "nbformat_minor": 2
}
