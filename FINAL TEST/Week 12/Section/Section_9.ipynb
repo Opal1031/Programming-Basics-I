{
 "cells": [
  {
   "cell_type": "code",
   "execution_count": 3,
   "metadata": {},
   "outputs": [
    {
     "name": "stdout",
     "output_type": "stream",
     "text": [
      "남은 기회 :  5\n",
      "비밀번호를 잘 못 누르셨습니다.\n",
      "남은 기회 :  4\n",
      "비밀번호를 잘 못 누르셨습니다.\n",
      "남은 기회 :  3\n",
      "비밀번호를 맞췄습니다.\n"
     ]
    }
   ],
   "source": [
    "secret = input(\"비밀번호를 설정하세요 : \")\n",
    "\n",
    "for chance in range(5, 0, -1):\n",
    "    print(\"남은 기회 : \", chance)\n",
    "    guess = input(\"비밀번호를 입력하세요 : \")\n",
    "    \n",
    "    if secret == guess:\n",
    "        print(\"비밀번호를 맞췄습니다.\")\n",
    "        break\n",
    "    print(\"비밀번호를 잘 못 누르셨습니다.\")\n",
    "\n",
    "else:\n",
    "    print(\"5번 기회 내에 비밀번호를 맞추지 못하였습니다.\")"
   ]
  }
 ],
 "metadata": {
  "interpreter": {
   "hash": "2e3d078c8d4bdc990425b59b37ce40889d98f8d9f97a9f0d06b73af4b91b75a1"
  },
  "kernelspec": {
   "display_name": "Python 3.10.2 64-bit",
   "language": "python",
   "name": "python3"
  },
  "language_info": {
   "codemirror_mode": {
    "name": "ipython",
    "version": 3
   },
   "file_extension": ".py",
   "mimetype": "text/x-python",
   "name": "python",
   "nbconvert_exporter": "python",
   "pygments_lexer": "ipython3",
   "version": "3.10.2"
  },
  "orig_nbformat": 4
 },
 "nbformat": 4,
 "nbformat_minor": 2
}
