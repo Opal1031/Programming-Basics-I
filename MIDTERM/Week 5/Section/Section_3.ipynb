{
 "cells": [
  {
   "cell_type": "code",
   "execution_count": 1,
   "metadata": {},
   "outputs": [
    {
     "name": "stdout",
     "output_type": "stream",
     "text": [
      "-> Fail!\n"
     ]
    }
   ],
   "source": [
    "score = int(input(\"점수를 입력하세요 : \"))\n",
    "\n",
    "if score >= 60:\n",
    "    print(\"-> Pass!\")\n",
    "else:\n",
    "    print(\"-> Fail!\")"
   ]
  },
  {
   "cell_type": "code",
   "execution_count": 2,
   "metadata": {},
   "outputs": [
    {
     "name": "stdout",
     "output_type": "stream",
     "text": [
      "정상입니다.\n"
     ]
    }
   ],
   "source": [
    "w = float(input(\"몸무게(kg) : \"))\n",
    "h = float(input(\"키(m) : \"))\n",
    "BMI = w/h ** 2\n",
    "\n",
    "if BMI >25:\n",
    "    print(\"비만입니다.\")\n",
    "else:\n",
    "    print(\"정상입니다.\")"
   ]
  }
 ],
 "metadata": {
  "interpreter": {
   "hash": "d290bc2f8beb16764210f7e67b0126813dedb0267aa5d25cf1c68367b0376f45"
  },
  "kernelspec": {
   "display_name": "Python 3.10.2 64-bit",
   "language": "python",
   "name": "python3"
  },
  "language_info": {
   "codemirror_mode": {
    "name": "ipython",
    "version": 3
   },
   "file_extension": ".py",
   "mimetype": "text/x-python",
   "name": "python",
   "nbconvert_exporter": "python",
   "pygments_lexer": "ipython3",
   "version": "3.10.2"
  },
  "orig_nbformat": 4
 },
 "nbformat": 4,
 "nbformat_minor": 2
}
