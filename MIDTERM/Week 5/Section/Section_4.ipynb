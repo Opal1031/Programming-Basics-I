{
 "cells": [
  {
   "cell_type": "code",
   "execution_count": 1,
   "metadata": {},
   "outputs": [
    {
     "name": "stdout",
     "output_type": "stream",
     "text": [
      "큰 수 :  7 작은 수 :  5\n"
     ]
    }
   ],
   "source": [
    "num0 = int(input(\"첫 번째 정수를 입력하세요 : \"))\n",
    "num1 = int(input(\"두 번째 정수를 입력하세요 : \"))\n",
    "\n",
    "if num0 > num1:\n",
    "    print(\"큰 수 : \", num0, \"작은 수 : \", num1)\n",
    "if num0 < num1:\n",
    "    print(\"큰 수 : \", num1, \"작은 수 : \", num0)\n",
    "if num0 == num1:\n",
    "    print(\"두 수는 같습니다.\")"
   ]
  },
  {
   "cell_type": "code",
   "execution_count": null,
   "metadata": {},
   "outputs": [],
   "source": [
    "score = int(input(\"점수를 입력하세요 : \"))\n",
    "\n",
    "if score >= 90:\n",
    "    print(\"-> A\")\n",
    "if score >= 80:\n",
    "    print(\"-> B\")\n",
    "if score >= 70:\n",
    "    print(\"-> C\")\n",
    "if score >= 60:\n",
    "    print(\"-> D\")\n",
    "    print(\"엄마에게 혼납니다.\")\n",
    "else:\n",
    "    print(\"-> F\")\n",
    "    print(\"엄마에게 매우 혼납니다.\")"
   ]
  }
 ],
 "metadata": {
  "interpreter": {
   "hash": "d290bc2f8beb16764210f7e67b0126813dedb0267aa5d25cf1c68367b0376f45"
  },
  "kernelspec": {
   "display_name": "Python 3.10.2 64-bit",
   "language": "python",
   "name": "python3"
  },
  "language_info": {
   "codemirror_mode": {
    "name": "ipython",
    "version": 3
   },
   "file_extension": ".py",
   "mimetype": "text/x-python",
   "name": "python",
   "nbconvert_exporter": "python",
   "pygments_lexer": "ipython3",
   "version": "3.10.2"
  },
  "orig_nbformat": 4
 },
 "nbformat": 4,
 "nbformat_minor": 2
}
