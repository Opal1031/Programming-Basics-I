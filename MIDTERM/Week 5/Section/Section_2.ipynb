{
 "cells": [
  {
   "cell_type": "code",
   "execution_count": 2,
   "metadata": {},
   "outputs": [],
   "source": [
    "w = float(input(\"몸무게(kg) : \"))\n",
    "h = float(input(\"키(m) : \"))\n",
    "BMI = w/h ** 2\n",
    "\n",
    "if BMI >25:\n",
    "    print(\"비만입니다.\")"
   ]
  },
  {
   "cell_type": "code",
   "execution_count": 3,
   "metadata": {},
   "outputs": [
    {
     "name": "stdout",
     "output_type": "stream",
     "text": [
      "홀수입니다.\n"
     ]
    }
   ],
   "source": [
    "n = int(input(\"정수 : \"))\n",
    "\n",
    "if n%2 == 1:\n",
    "    print(\"홀수입니다.\")\n",
    "\n",
    "if n%2 == 0:\n",
    "    print(\"짝수입니다.\")"
   ]
  },
  {
   "cell_type": "code",
   "execution_count": 4,
   "metadata": {},
   "outputs": [
    {
     "name": "stdout",
     "output_type": "stream",
     "text": [
      "선택한 메뉴는 안 매운 짬뽕입니다.\n",
      "맛있게 드세요~\n"
     ]
    }
   ],
   "source": [
    "m = int(input(\"원하는 음식은(짜장면 : 0, 짬뽕 : 1)?\"))\n",
    "\n",
    "if m == 0:\n",
    "    print(\"선택한 메뉴는 짜장면입니다.\")\n",
    "\n",
    "if m == 1:\n",
    "    k = int(input(\"맵게(0)? 안 맵게(1)?\"))\n",
    "    \n",
    "    if k == 0:\n",
    "        print(\"선택한 메뉴는 매운 짬뽕입니다.\")\n",
    "    if k == 1:\n",
    "        print(\"선택한 메뉴는 안 매운 짬뽕입니다.\")\n",
    "\n",
    "print(\"맛있게 드세요~\")"
   ]
  },
  {
   "cell_type": "code",
   "execution_count": 5,
   "metadata": {},
   "outputs": [
    {
     "name": "stdout",
     "output_type": "stream",
     "text": [
      "C 등급입니다.\n"
     ]
    }
   ],
   "source": [
    "score = int(input(\"당신의 점수는?\"))\n",
    "\n",
    "if score >= 90:\n",
    "    print(\"A 등급입니다.\")\n",
    "if score < 90 and score >= 80:\n",
    "    print(\"B 등급입니다.\")\n",
    "if score < 80 and score >= 70:\n",
    "    print(\"C 등급입니다.\")\n",
    "if score < 70 and score >= 60:\n",
    "    print(\"D 등급입니다.\")\n",
    "if score < 60:\n",
    "    print(\"F 등급입니다.\")"
   ]
  }
 ],
 "metadata": {
  "interpreter": {
   "hash": "d290bc2f8beb16764210f7e67b0126813dedb0267aa5d25cf1c68367b0376f45"
  },
  "kernelspec": {
   "display_name": "Python 3.10.2 64-bit",
   "language": "python",
   "name": "python3"
  },
  "language_info": {
   "codemirror_mode": {
    "name": "ipython",
    "version": 3
   },
   "file_extension": ".py",
   "mimetype": "text/x-python",
   "name": "python",
   "nbconvert_exporter": "python",
   "pygments_lexer": "ipython3",
   "version": "3.10.2"
  },
  "orig_nbformat": 4
 },
 "nbformat": 4,
 "nbformat_minor": 2
}
