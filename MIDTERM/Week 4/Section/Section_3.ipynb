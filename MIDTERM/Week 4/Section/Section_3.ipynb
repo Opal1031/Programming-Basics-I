{
 "cells": [
  {
   "cell_type": "code",
   "execution_count": 1,
   "metadata": {},
   "outputs": [
    {
     "name": "stdout",
     "output_type": "stream",
     "text": [
      "a b c\n",
      "a---b---c\n",
      "a\t 123b\t 123c\n"
     ]
    }
   ],
   "source": [
    "print(\"a\", \"b\", \"c\", sep = \" \")\n",
    "print(\"a\", \"b\", \"c\", sep = \"---\")\n",
    "print(\"a\", \"b\", \"c\", sep = \"\\t 123\")"
   ]
  },
  {
   "cell_type": "code",
   "execution_count": 2,
   "metadata": {},
   "outputs": [
    {
     "name": "stdout",
     "output_type": "stream",
     "text": [
      "a@b!\n",
      "c\n"
     ]
    }
   ],
   "source": [
    "print(\"a\", end = \"@\")\n",
    "print(\"b\" ,end = \"!\\n\")\n",
    "print(\"c\")"
   ]
  }
 ],
 "metadata": {
  "interpreter": {
   "hash": "d290bc2f8beb16764210f7e67b0126813dedb0267aa5d25cf1c68367b0376f45"
  },
  "kernelspec": {
   "display_name": "Python 3.10.2 64-bit",
   "language": "python",
   "name": "python3"
  },
  "language_info": {
   "codemirror_mode": {
    "name": "ipython",
    "version": 3
   },
   "file_extension": ".py",
   "mimetype": "text/x-python",
   "name": "python",
   "nbconvert_exporter": "python",
   "pygments_lexer": "ipython3",
   "version": "3.10.2"
  },
  "orig_nbformat": 4
 },
 "nbformat": 4,
 "nbformat_minor": 2
}
