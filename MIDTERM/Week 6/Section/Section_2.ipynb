{
 "cells": [
  {
   "cell_type": "code",
   "execution_count": 1,
   "metadata": {},
   "outputs": [
    {
     "name": "stdout",
     "output_type": "stream",
     "text": [
      "현재 금액 :  2300 원\n",
      "음료를 선택하세요 (콜라 : 0, 사이다 : 1, 환타 : 2)\n",
      "콜라가 나왔습니다.\n",
      "현재 금액 :  1800 원\n",
      "음료를 선택하세요 (콜라 : 0, 사이다 : 1, 환타 : 2)\n",
      "사이다가 나왔습니다.\n",
      "현재 금액 :  1300 원\n",
      "음료를 선택하세요 (콜라 : 0, 사이다 : 1, 환타 : 2)\n",
      "환타가 나왔습니다.\n",
      "현재 금액 :  800 원\n",
      "음료를 선택하세요 (콜라 : 0, 사이다 : 1, 환타 : 2)\n",
      "거스름돈 :  800 원\n"
     ]
    }
   ],
   "source": [
    "money = int(input(\"동전을 넣으세요 : \"))\n",
    "\n",
    "while money >= 500:\n",
    "    print(\"현재 금액 : \", money, \"원\")\n",
    "    sel = int(input(\"콜라(0), 사이다(1), 환타(2), 환불(3) : \"))\n",
    "    print(\"음료를 선택하세요 (콜라 : 0, 사이다 : 1, 환타 : 2)\")\n",
    "\n",
    "    if sel == 0:\n",
    "        print(\"콜라가 나왔습니다.\")\n",
    "    elif sel == 1:\n",
    "        print(\"사이다가 나왔습니다.\")\n",
    "    elif sel == 2:\n",
    "        print(\"환타가 나왔습니다.\")\n",
    "    else:\n",
    "        break\n",
    "\n",
    "    money -= 500\n",
    "\n",
    "print(\"거스름돈 : \", money, \"원\")"
   ]
  }
 ],
 "metadata": {
  "interpreter": {
   "hash": "d290bc2f8beb16764210f7e67b0126813dedb0267aa5d25cf1c68367b0376f45"
  },
  "kernelspec": {
   "display_name": "Python 3.10.2 64-bit",
   "language": "python",
   "name": "python3"
  },
  "language_info": {
   "codemirror_mode": {
    "name": "ipython",
    "version": 3
   },
   "file_extension": ".py",
   "mimetype": "text/x-python",
   "name": "python",
   "nbconvert_exporter": "python",
   "pygments_lexer": "ipython3",
   "version": "3.10.2"
  },
  "orig_nbformat": 4
 },
 "nbformat": 4,
 "nbformat_minor": 2
}
