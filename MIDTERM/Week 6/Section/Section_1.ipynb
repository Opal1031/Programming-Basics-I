{
 "cells": [
  {
   "cell_type": "code",
   "execution_count": 1,
   "metadata": {},
   "outputs": [
    {
     "name": "stdout",
     "output_type": "stream",
     "text": [
      "입력된 숫자는 5 입니다.\n",
      "입력된 숫자는 4 입니다.\n",
      "입력된 숫자는 3 입니다.\n",
      "입력된 숫자는 2 입니다.\n",
      "입력된 숫자는 1 입니다.\n",
      "입력된 숫자는 0 입니다.\n",
      "끝\n"
     ]
    }
   ],
   "source": [
    "num = int(input(\"숫자를 하나 입력하세요 : \"))\n",
    "\n",
    "while num >= 0:\n",
    "    print(\"입력된 숫자는\", num, \"입니다.\")\n",
    "    num -= 1\n",
    "    \n",
    "print(\"끝\")"
   ]
  },
  {
   "cell_type": "code",
   "execution_count": 4,
   "metadata": {},
   "outputs": [
    {
     "name": "stdout",
     "output_type": "stream",
     "text": [
      "나무를  1번 찍었습니다. 쾅\n",
      "나무를  2번 찍었습니다. 쾅, 쾅\n",
      "나무를  3번 찍었습니다. 쾅, 쾅, 쾅\n",
      "나무를  4번 찍었습니다. 쾅, 쾅, 쾅, 쾅\n",
      "나무를  5번 찍었습니다. 쾅, 쾅, 쾅, 쾅, 쾅\n",
      "나무를  6번 찍었습니다. 쾅, 쾅, 쾅, 쾅, 쾅, 쾅\n",
      "나무를  7번 찍었습니다. 쾅, 쾅, 쾅, 쾅, 쾅, 쾅, 쾅\n",
      "나무를  8번 찍었습니다. 쾅, 쾅, 쾅, 쾅, 쾅, 쾅, 쾅, 쾅\n",
      "나무를  9번 찍었습니다. 쾅, 쾅, 쾅, 쾅, 쾅, 쾅, 쾅, 쾅, 쾅\n",
      "나무를 10번 찍었습니다. 쾅, 쾅, 쾅, 쾅, 쾅, 쾅, 쾅, 쾅, 쾅, 쾅\n",
      "나무가 넘어갔습니다.\n"
     ]
    }
   ],
   "source": [
    "i = 1\n",
    "\n",
    "while i < 11:\n",
    "    print(\"나무를 %2d번 찍었습니다.\" %i, \"쾅, \"*(i-1)+\"쾅\")\n",
    "    i += 1\n",
    "\n",
    "print(\"나무가 넘어갔습니다.\")"
   ]
  },
  {
   "cell_type": "code",
   "execution_count": 5,
   "metadata": {},
   "outputs": [
    {
     "name": "stdout",
     "output_type": "stream",
     "text": [
      "    aa\n",
      "   aaaa\n",
      "  aaaaaa\n",
      " aaaaaaaa\n",
      "aaaaaaaaaa\n",
      "    ㅁ\n",
      "    ㅁ\n"
     ]
    }
   ],
   "source": [
    "size = int(input(\"나무 크기 : \"))\n",
    "leaf = input(\"잎 모양 : \")\n",
    "stem = input(\"줄기 모양 : \")\n",
    "\n",
    "i = 1\n",
    "\n",
    "while i <= size:\n",
    "    print(\" \" * (size-i) + leaf * i)\n",
    "    i += 1\n",
    "\n",
    "print(\" \" * (size - 1) + stem)\n",
    "print(\" \" * (size - 1) + stem)"
   ]
  }
 ],
 "metadata": {
  "interpreter": {
   "hash": "d290bc2f8beb16764210f7e67b0126813dedb0267aa5d25cf1c68367b0376f45"
  },
  "kernelspec": {
   "display_name": "Python 3.10.2 64-bit",
   "language": "python",
   "name": "python3"
  },
  "language_info": {
   "codemirror_mode": {
    "name": "ipython",
    "version": 3
   },
   "file_extension": ".py",
   "mimetype": "text/x-python",
   "name": "python",
   "nbconvert_exporter": "python",
   "pygments_lexer": "ipython3",
   "version": "3.10.2"
  },
  "orig_nbformat": 4
 },
 "nbformat": 4,
 "nbformat_minor": 2
}
