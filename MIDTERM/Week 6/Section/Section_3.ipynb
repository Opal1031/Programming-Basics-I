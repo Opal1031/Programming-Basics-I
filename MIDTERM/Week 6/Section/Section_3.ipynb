{
 "cells": [
  {
   "cell_type": "code",
   "execution_count": 1,
   "metadata": {},
   "outputs": [
    {
     "name": "stdout",
     "output_type": "stream",
     "text": [
      "13 % 3 = 1\n",
      "13 % 5 = 3\n",
      "13 % 7 = 6\n",
      "13 % 9 = 4\n",
      "13 % 11 = 2\n",
      "13 is prime\n"
     ]
    }
   ],
   "source": [
    "n = int(input(\"Num : \"))\n",
    "\n",
    "divisor = 3\n",
    "\n",
    "while divisor < n:\n",
    "    remain = n % divisor\n",
    "    print(n, \"%\", divisor, \"=\", remain)\n",
    "\n",
    "    divisor += 2\n",
    "\n",
    "    if remain == 0:\n",
    "        print(n, \"is compsite number\")\n",
    "        break\n",
    "\n",
    "else:\n",
    "    print(n, \"is prime\")"
   ]
  }
 ],
 "metadata": {
  "interpreter": {
   "hash": "d290bc2f8beb16764210f7e67b0126813dedb0267aa5d25cf1c68367b0376f45"
  },
  "kernelspec": {
   "display_name": "Python 3.10.2 64-bit",
   "language": "python",
   "name": "python3"
  },
  "language_info": {
   "codemirror_mode": {
    "name": "ipython",
    "version": 3
   },
   "file_extension": ".py",
   "mimetype": "text/x-python",
   "name": "python",
   "nbconvert_exporter": "python",
   "pygments_lexer": "ipython3",
   "version": "3.10.2"
  },
  "orig_nbformat": 4
 },
 "nbformat": 4,
 "nbformat_minor": 2
}
